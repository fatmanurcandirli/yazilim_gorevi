{
 "cells": [
  {
   "cell_type": "code",
   "execution_count": 2,
   "id": "e4edac40-9fef-4b18-ae4e-6488615b077d",
   "metadata": {},
   "outputs": [
    {
     "name": "stdout",
     "output_type": "stream",
     "text": [
      "Montunu giy!\n"
     ]
    }
   ],
   "source": [
    "# if ifadesi parantez içindeki koşul sağlanıyorsa kendisinden bir sonraki komutu uygular.\n",
    "\n",
    "hava_durumu = \"karlı\"\n",
    "\n",
    "if hava_durumu == \"karlı\" :\n",
    "    print(\"Montunu giy!\")\n",
    "\n",
    "# else ifadesi ise şartların sağlanmadığı durumlarda kullanılır.\n",
    "# elif ifadesi de if ve else arasında sorgulama için kullanılır."
   ]
  },
  {
   "cell_type": "code",
   "execution_count": 4,
   "id": "7b4f5a9b-5eaf-4998-86bd-75c67801aa2e",
   "metadata": {},
   "outputs": [
    {
     "name": "stdout",
     "output_type": "stream",
     "text": [
      "Girebilirsin\n"
     ]
    }
   ],
   "source": [
    "yas  = 19\n",
    "if yas > 18 : \n",
    "    print (\"Girebilirsin\")\n",
    "else:\n",
    "    print (\"Giremezsin\")"
   ]
  },
  {
   "cell_type": "code",
   "execution_count": 6,
   "id": "fc829f94-43db-4123-a5b1-fb38dbccec08",
   "metadata": {},
   "outputs": [
    {
     "name": "stdout",
     "output_type": "stream",
     "text": [
      "liste ekledim\n",
      "Güncel liste ['a', 'b', 'c', 'd']\n"
     ]
    }
   ],
   "source": [
    "# in komutu listelerde listenin içinde olan elemanları kontrol ederken kullanılır.\n",
    "liste= [ 'a' , 'b' , 'c']\n",
    "hedef_harf = 'd'\n",
    "if hedef_harf in liste:\n",
    "    print ('buldum')\n",
    "else:\n",
    "    liste.append(hedef_harf)\n",
    "    print ('liste ekledim')\n",
    "    print('Güncel liste {}'.format(liste))"
   ]
  },
  {
   "cell_type": "code",
   "execution_count": null,
   "id": "0f9f635f-219a-4510-944d-87ff1a7d7506",
   "metadata": {},
   "outputs": [],
   "source": [
    "# and ve or kullanarak birden fazla sorguyu aynı anda yapabiliriz.\n"
   ]
  },
  {
   "cell_type": "code",
   "execution_count": 8,
   "id": "b2a1319f-64ca-4605-9554-04eda20f3bb6",
   "metadata": {},
   "outputs": [
    {
     "name": "stdout",
     "output_type": "stream",
     "text": [
      "kırmızı\n",
      "mavi\n",
      "yeşil\n"
     ]
    }
   ],
   "source": [
    "# for döngüsü çalışma prensibi : for ..... in .....\n",
    "\n",
    "renkler = [ \"kırmızı\",\"mavi\",\"yeşil\"]\n",
    "for x in renkler:\n",
    "    print(x);"
   ]
  },
  {
   "cell_type": "code",
   "execution_count": 19,
   "id": "d540384c-f12b-45f1-9e59-1cde8267de22",
   "metadata": {},
   "outputs": [
    {
     "name": "stdout",
     "output_type": "stream",
     "text": [
      "1\n",
      "3\n",
      "5\n",
      "7\n"
     ]
    }
   ],
   "source": [
    "tup1 = (1,3,5,7)\n",
    "for sayi in tup1:\n",
    "    print(sayi)"
   ]
  },
  {
   "cell_type": "code",
   "execution_count": 29,
   "id": "0685d546-ff0a-4e43-9a0c-2ed5fb0293f8",
   "metadata": {},
   "outputs": [
    {
     "name": "stdout",
     "output_type": "stream",
     "text": [
      "1 2\n",
      "3 4\n",
      "5 6\n"
     ]
    }
   ],
   "source": [
    "liste = [[1,2],[3,4],[5,6]]\n",
    "for x,y, in liste :\n",
    "    print(x,y)"
   ]
  },
  {
   "cell_type": "code",
   "execution_count": 56,
   "id": "9630e3bf-1a64-4b44-b38c-0dfab2f59349",
   "metadata": {},
   "outputs": [],
   "source": [
    "# kullanıcı = {\n",
    "    # 'ad' : 'Nur'\n",
    "    # 'soyad' : 'Candirli'\n",
    "\n",
    "# }\n",
    "##print ((kullanıcı.items()))"
   ]
  },
  {
   "cell_type": "code",
   "execution_count": 49,
   "id": "c0bf6d0f-0dd1-465c-9c23-357d8f86de61",
   "metadata": {},
   "outputs": [],
   "source": [
    "# for k , v in kullanici.items ():\n",
    "  ##   print(\"Key:{} \\t Value: {}\".format(k,v))"
   ]
  },
  {
   "cell_type": "code",
   "execution_count": 58,
   "id": "b1ade280-2011-40cf-ab8e-fc506831ed98",
   "metadata": {},
   "outputs": [
    {
     "name": "stdout",
     "output_type": "stream",
     "text": [
      "0 degeri 10'dan kucuktur.\n",
      "1 degeri 10'dan kucuktur.\n",
      "2 degeri 10'dan kucuktur.\n",
      "3 degeri 10'dan kucuktur.\n",
      "4 degeri 10'dan kucuktur.\n",
      "5 degeri 10'dan kucuktur.\n",
      "6 degeri 10'dan kucuktur.\n",
      "7 degeri 10'dan kucuktur.\n",
      "8 degeri 10'dan kucuktur.\n",
      "9 degeri 10'dan kucuktur.\n"
     ]
    }
   ],
   "source": [
    "#while döngü için kullanılır.\n",
    "x=0\n",
    "while x < 10:\n",
    "    print(\"{} degeri 10'dan kucuktur.\".format(x))\n",
    "    x+=1"
   ]
  },
  {
   "cell_type": "code",
   "execution_count": 63,
   "id": "cbbdbe68-5015-4c7a-b820-bc9124f751f3",
   "metadata": {},
   "outputs": [
    {
     "data": {
      "text/plain": [
       "range(0, 10)"
      ]
     },
     "execution_count": 63,
     "metadata": {},
     "output_type": "execute_result"
    }
   ],
   "source": [
    "# range sıfırdan atadığımız sayıya kadar değerleri gösterir.\n",
    "range(10)"
   ]
  },
  {
   "cell_type": "code",
   "execution_count": 65,
   "id": "c4f281b9-ddfd-4a64-8f65-8ada2dd7927e",
   "metadata": {},
   "outputs": [
    {
     "data": {
      "text/plain": [
       "[0, 1, 2, 3, 4, 5, 6, 7, 8, 9]"
      ]
     },
     "execution_count": 65,
     "metadata": {},
     "output_type": "execute_result"
    }
   ],
   "source": [
    "list(range(10))"
   ]
  },
  {
   "cell_type": "code",
   "execution_count": 67,
   "id": "f08073e2-7f48-4b37-9ccc-04a1e24c3e67",
   "metadata": {},
   "outputs": [
    {
     "data": {
      "text/plain": [
       "[0, 1, 2, 3, 4, 5, 6, 7, 8, 9]"
      ]
     },
     "execution_count": 67,
     "metadata": {},
     "output_type": "execute_result"
    }
   ],
   "source": [
    "[*range(10)]"
   ]
  },
  {
   "cell_type": "code",
   "execution_count": 69,
   "id": "565576b6-2432-4ae0-82b8-59853ab9ae71",
   "metadata": {},
   "outputs": [
    {
     "name": "stdout",
     "output_type": "stream",
     "text": [
      "(0, 'a')\n",
      "(1, 'b')\n",
      "(2, 'c')\n"
     ]
    }
   ],
   "source": [
    "#enumerate elemanları indexleriyle beraber verir.\n",
    "harfler=['a','b','c']\n",
    "\n",
    "for harf in enumerate(harfler):\n",
    "    print(harf)"
   ]
  },
  {
   "cell_type": "code",
   "execution_count": 73,
   "id": "3ffcfa39-4b41-43a5-85b8-5616f30c4772",
   "metadata": {},
   "outputs": [
    {
     "name": "stdout",
     "output_type": "stream",
     "text": [
      "('Ankara', 1)\n",
      "('İzmir', 2)\n",
      "('Çanakkale', 3)\n"
     ]
    }
   ],
   "source": [
    "#zip iki listeyi birbirine bağlamak için kulanılır.\n",
    "sehirler =[ 'Ankara','İzmir','Çanakkale']\n",
    "siralamalar= range(1,4)\n",
    "for sehirler in zip(sehirler,siralamalar):\n",
    "    print(sehirler)"
   ]
  },
  {
   "cell_type": "code",
   "execution_count": 75,
   "id": "c68e70c5-a79f-4f03-814b-ad29e75197c8",
   "metadata": {},
   "outputs": [
    {
     "name": "stdout",
     "output_type": "stream",
     "text": [
      "c harfi 2. indexte!\n"
     ]
    }
   ],
   "source": [
    "#break döngüden çıkmayı ifade eden komuttur.\n",
    "harfler = ['a','b','c','d'] *100\n",
    "for index, harf in enumerate(harfler):\n",
    "    if harf=='c':\n",
    "        print('{} harfi {}. indexte!'.format(harf,index))\n",
    "        break\n",
    "        "
   ]
  },
  {
   "cell_type": "code",
   "execution_count": null,
   "id": "1ff44d33-3688-45c1-833f-fe85ace67206",
   "metadata": {},
   "outputs": [],
   "source": [
    "#continue devam ederek döngüyü başa sardıran komuttur.\n"
   ]
  },
  {
   "cell_type": "code",
   "execution_count": null,
   "id": "1ce7ccd1-2683-448b-8bfa-3de671db9d82",
   "metadata": {},
   "outputs": [],
   "source": [
    "#pass geçmeyi ifade eden komuttur.Ayrıca henüz tamamlanmamış kod bloklarını geçmek ve kodun bozulmasını önlemek için kullanılır\n"
   ]
  },
  {
   "cell_type": "code",
   "execution_count": 77,
   "id": "0fe4f149-b9a3-46a5-beb4-079fdff64b36",
   "metadata": {},
   "outputs": [],
   "source": [
    "# fonksiyon yapısı\n",
    "def bes_bastir():\n",
    "    print(5)\n",
    "    "
   ]
  },
  {
   "cell_type": "code",
   "execution_count": 121,
   "id": "ccb1e2aa-bbb2-4db2-9b25-ffe035494908",
   "metadata": {},
   "outputs": [],
   "source": [
    "#bes_bastir()"
   ]
  },
  {
   "cell_type": "code",
   "execution_count": null,
   "id": "89c7de02-a82f-428a-bddd-1be5b4bbf389",
   "metadata": {},
   "outputs": [],
   "source": [
    " # \"\"\" ifadesi arasına yazılan ifadeleri okumaz."
   ]
  },
  {
   "cell_type": "code",
   "execution_count": 85,
   "id": "7672c499-2f5b-4e23-af47-7c0760b49b00",
   "metadata": {},
   "outputs": [],
   "source": [
    "# print ve return farkı\n",
    "def bes_dondur():\n",
    "    return 5\n",
    "    bes_dondur()"
   ]
  },
  {
   "cell_type": "code",
   "execution_count": 93,
   "id": "7805d24e-7e8d-4adb-bac9-8ee7151a64b1",
   "metadata": {},
   "outputs": [],
   "source": [
    "def sayi_dondur(sayi):\n",
    "    return sayi\n",
    "    sayi_dondur(\"1234\")"
   ]
  },
  {
   "cell_type": "code",
   "execution_count": 97,
   "id": "6329c0dc-58dd-4b89-9e1e-ad300767845a",
   "metadata": {},
   "outputs": [],
   "source": [
    "def buyuk_sayi_dondur(a,b):\n",
    "    if a>b:\n",
    "        return a\n",
    "    elif b>a:\n",
    "        return b\n",
    "        "
   ]
  },
  {
   "cell_type": "code",
   "execution_count": 99,
   "id": "ceeaa588-e06c-4120-874d-315ad49d63b6",
   "metadata": {},
   "outputs": [
    {
     "data": {
      "text/plain": [
       "10"
      ]
     },
     "execution_count": 99,
     "metadata": {},
     "output_type": "execute_result"
    }
   ],
   "source": [
    "buyuk_sayi_dondur(5,10)"
   ]
  },
  {
   "cell_type": "code",
   "execution_count": null,
   "id": "5b94a03c-a89d-43e1-8f32-34015c496361",
   "metadata": {},
   "outputs": [],
   "source": [
    "#fonksiyonlar birden fazla sonuç döndürebilir.\n",
    "##split ile itemler ayrılır,join ile birleştirilir."
   ]
  },
  {
   "cell_type": "code",
   "execution_count": null,
   "id": "98cbf709-d7b2-42ba-b00c-0b2a139cc8ab",
   "metadata": {},
   "outputs": [],
   "source": [
    "#\" \".join keywords argümanı,fonksiyon içindeki tüm argümanlara erişimi sağlar.\n"
   ]
  },
  {
   "cell_type": "code",
   "execution_count": null,
   "id": "e98c971a-b416-4754-909b-5779427e7a0b",
   "metadata": {},
   "outputs": [],
   "source": [
    "# map ifadesi fonksiyon içindeki ifadeyi listedeki tüm elemanlara uygular.\n",
    "#lambda hem map hem filter ile kullanılır."
   ]
  },
  {
   "cell_type": "code",
   "execution_count": null,
   "id": "b398d967-af84-46b8-9d45-e0d36fb7fdbb",
   "metadata": {},
   "outputs": [],
   "source": [
    "#input komutu kullanıcıdan bir girdi ister.\n",
    "#python check a variable is integer sayfası**\n"
   ]
  },
  {
   "cell_type": "code",
   "execution_count": 111,
   "id": "54b1d6c4-3823-401a-b2cd-228b245d05e1",
   "metadata": {},
   "outputs": [
    {
     "data": {
      "text/plain": [
       "2"
      ]
     },
     "execution_count": 111,
     "metadata": {},
     "output_type": "execute_result"
    }
   ],
   "source": [
    "#try,except yapıları hataları kabul ederek kodun çalıştırılmasını sağlar.\n",
    "#round komutu sayıyı en yakın ondalığa yuvarlar.\n",
    "round(1.6)"
   ]
  },
  {
   "cell_type": "code",
   "execution_count": null,
   "id": "6b6589d0-5c6f-43bf-a3a2-782c528b8c99",
   "metadata": {},
   "outputs": [],
   "source": [
    "# finally yapısı try,expect yapılarında hata olup olmadığına bakılmaksızın kodları her zaman çalıştırır. "
   ]
  },
  {
   "cell_type": "code",
   "execution_count": null,
   "id": "aa20c0cf-b1b9-48ec-91ce-e3adc1086a53",
   "metadata": {},
   "outputs": [],
   "source": [
    "#class , çok boyutlu yapıları tutabileceğimiz şablonlardır."
   ]
  },
  {
   "cell_type": "code",
   "execution_count": null,
   "id": "fc8ee451-7e48-4a25-8216-771116404e5c",
   "metadata": {},
   "outputs": [],
   "source": [
    "# self ile parametrelere atamalar yapılır."
   ]
  },
  {
   "cell_type": "code",
   "execution_count": null,
   "id": "cff8f9f8-8e69-4558-a7b0-c0837e6d94b9",
   "metadata": {},
   "outputs": [],
   "source": [
    "# dunder methodlar ( double under score) class yapısına özgün otomatik olarak oluşturulur.\n",
    "# __dir__ ile bütün methodlar görüntülenir.\n",
    "#__repr komutu daha okunaklı yazdırır."
   ]
  },
  {
   "cell_type": "code",
   "execution_count": null,
   "id": "92344df1-f1b0-424b-a721-9502a8b2c3dd",
   "metadata": {},
   "outputs": [],
   "source": [
    "#os.getcwd() fonksiyonu geçerli çalışma dizinini döndürür.\n",
    "#os.chdir('yeni_dizin') çalışma dizinini değiştirir.\n",
    "#os.listdir('dizin') belirtilen dizindeki dosya ve klasörleri listeler.\n",
    "#os.mkdir('yeni_klasor') komutu yeni bir klasör oluşturur.\n",
    "#os.rmdir('klasor') komutu belirtilen boş klasörü silmek için kullanılır.\n",
    "#os.remove ('dosya') belirtilen dosyayı siler."
   ]
  },
  {
   "cell_type": "code",
   "execution_count": null,
   "id": "1872e40e-9672-4d8a-9076-7aa6be889dc7",
   "metadata": {},
   "outputs": [],
   "source": [
    "#shutil.copy('kaynak_dosya','hedef_dosya') komutu bir dosyayı belirtilen hedefe kopyalar.\n",
    "#shutil.move ('kaynak','hedef')komutu,bir dosya veya dizini belirtilen hedefe taşır.\n",
    "#shutil.rmtree ('dizin') komutu,belirtilen dizini ve içeriğini silmek için kullanılır."
   ]
  },
  {
   "cell_type": "code",
   "execution_count": null,
   "id": "f5269ae1-7be9-44a6-a22e-a5503823ebec",
   "metadata": {},
   "outputs": [],
   "source": [
    "#open fonksiyonu ile dosyalar açılır.\n",
    "#r okuma modu,w yazma modu,a ekleme modu\n",
    "#read dosyanın tamamını okur.\n",
    "#readline dosyadan bir satır okur.\n",
    "#readlines dosyanın tüm satırlarını liste olarak döner.\n",
    "#write dosyaya veri yazar.\n",
    "#writelines bir liste içindeki verileri dosyaya yazar.\n",
    "# try -expect blokları kullanılarak dosya işlemlerinde oluşabilecek hatalar yönetilir."
   ]
  },
  {
   "cell_type": "code",
   "execution_count": 113,
   "id": "9f519845-a7bd-4bb5-b792-3a59b91992f8",
   "metadata": {},
   "outputs": [
    {
     "ename": "SyntaxError",
     "evalue": "invalid syntax (2217236969.py, line 10)",
     "output_type": "error",
     "traceback": [
      "\u001b[1;36m  Cell \u001b[1;32mIn[113], line 10\u001b[1;36m\u001b[0m\n\u001b[1;33m    expect ZeroDivisionError:\u001b[0m\n\u001b[1;37m           ^\u001b[0m\n\u001b[1;31mSyntaxError\u001b[0m\u001b[1;31m:\u001b[0m invalid syntax\n"
     ]
    }
   ],
   "source": [
    "#Errors ve expections programın çalışmasını durdurabilir.\n",
    "#Bazı hatalar,SyntaxError,TypeError,NameError ve IndexError.\n",
    "#Try bloğu içinde potansiyel hata oluşturabiecek kodlar yazılır,expect bloğu içinde hatanın nasıl ele alınacağı belirtilir.\n",
    "# Else bloğu try bloğunda hata oluşmadığında çalışır,finally her durumda çalışır.\n",
    "#Bugs program çalışsa da beklenen sonuçları vermeyen hatalardır\n",
    "\n",
    "try:\n",
    "    # hata oluşturabilecek kodlar\n",
    "    result=10/0\n",
    "    expect ZeroDivisionError:\n",
    "    # hata oluştuğunda yapılacak işlemler\n",
    "    print(\"Sıfıra bölme hatası!\")"
   ]
  },
  {
   "cell_type": "code",
   "execution_count": 115,
   "id": "f486a662-5ed4-407e-ad93-e34f1bc5556a",
   "metadata": {},
   "outputs": [],
   "source": [
    "def pozitif_sayi_gir(sayi):\n",
    "    if sayi < 0:\n",
    "        raise ValueError (\"Negatif sayılar kabul edilmez!\")\n",
    "        return sayi"
   ]
  },
  {
   "cell_type": "code",
   "execution_count": null,
   "id": "fb2fe8f8-b54c-4e33-b7cc-f672a5746d33",
   "metadata": {},
   "outputs": [],
   "source": [
    "#random.random 0 ile 1 arasında rastgele bir ondalık sayı üretir.\n",
    "#random.uniform (a,b) belirtilen iki sayı arasında rastgele bir ondalıklı sayı üretir.\n",
    "#random.randint(a,b) belirtilen iki sayı arasında rastgele bir tam sayı üretir.\n",
    "#random.choice(sequence) verilen diziden rastgele bir eleman seçer.\n",
    "#random.shuffle(sequence) verilen diziyi rastgele karıştırır.\n",
    "#math.sqrt(x) x sayısının karekökünü hesaplar.\n",
    "#math.factorial(X) x sayısının faktöriyelini hesaplar.\n",
    "#math.pow(x,y) x üssü y hesaplar.\n",
    "#math.pi pi sayısının değeri, math.e euler sayısının değeri"
   ]
  },
  {
   "cell_type": "code",
   "execution_count": 117,
   "id": "c80c9664-b053-4b31-a7db-88057037913f",
   "metadata": {},
   "outputs": [
    {
     "ename": "ImportError",
     "evalue": "cannot import name 'counter' from 'collections' (C:\\Users\\Eda06\\anaconda3\\Lib\\collections\\__init__.py)",
     "output_type": "error",
     "traceback": [
      "\u001b[1;31m---------------------------------------------------------------------------\u001b[0m",
      "\u001b[1;31mImportError\u001b[0m                               Traceback (most recent call last)",
      "Cell \u001b[1;32mIn[117], line 3\u001b[0m\n\u001b[0;32m      1\u001b[0m \u001b[38;5;66;03m#Counter sınıfı from collections import counter şeklinde içe aktarılır.\u001b[39;00m\n\u001b[0;32m      2\u001b[0m \u001b[38;5;66;03m#Counter nesnesi bir iterable nesne ile oluşturulur.\u001b[39;00m\n\u001b[1;32m----> 3\u001b[0m \u001b[38;5;28;01mfrom\u001b[39;00m \u001b[38;5;21;01mcollections\u001b[39;00m \u001b[38;5;28;01mimport\u001b[39;00m counter\n\u001b[0;32m      4\u001b[0m \u001b[38;5;66;03m#liste örneği\u001b[39;00m\n\u001b[0;32m      5\u001b[0m sayılar \u001b[38;5;241m=\u001b[39m [\u001b[38;5;241m1\u001b[39m,\u001b[38;5;241m2\u001b[39m,\u001b[38;5;241m2\u001b[39m,\u001b[38;5;241m3\u001b[39m,\u001b[38;5;241m3\u001b[39m,\u001b[38;5;241m3\u001b[39m,\u001b[38;5;241m4\u001b[39m]\n",
      "\u001b[1;31mImportError\u001b[0m: cannot import name 'counter' from 'collections' (C:\\Users\\Eda06\\anaconda3\\Lib\\collections\\__init__.py)"
     ]
    }
   ],
   "source": [
    "#Counter sınıfı from collections import counter şeklinde içe aktarılır.\n",
    "#Counter nesnesi bir iterable nesne ile oluşturulur.\n",
    "from collections import counter\n",
    "#liste örneği\n",
    "sayılar = [1,2,2,3,3,3,4]\n",
    "sayac= counter(sayilar)\n",
    "print(sayac)\n",
    "#Çıktı: counter ({3:3,2:2,1:1,4:1})\n",
    "#most_common metodu en yaygın ögeyi ve frekanslarını döndürür.\n",
    "#sum(sayac.values()) ile tüm ögelerin toplam sayısı bulunabilir."
   ]
  },
  {
   "cell_type": "code",
   "execution_count": 119,
   "id": "70b7ed56-422d-4fa2-8d89-345870106f11",
   "metadata": {},
   "outputs": [],
   "source": [
    "#namedtuple kullanımı için collections modülünden namedtuple fonksiyonu içe aktarılır ve ardından yeni bir veri tipi tanımlanır.Değiştirilemezler.\n",
    "#_asdict nametuple'ı bir dictionary olarak döndürür.\n",
    "#_replace belirli alanların değerlerini değiştirerek yeni bir namedtuple oluşturur.\n",
    "#_fields namedtuple'ın isimlerini bir tuple olarak döndürür."
   ]
  },
  {
   "cell_type": "code",
   "execution_count": null,
   "id": "0e3d3c86-bbb2-4cf9-9fee-92f772d62e36",
   "metadata": {},
   "outputs": [],
   "source": [
    "#deque çift uçlu bir kuyruk yapısıdır ve hem başa hem de sona hızlı ekleme ve çıkarma işlemleri yapmaya olanak tanır.\n",
    "#counter hashlenebilir nesnelerin sayımını tutan bir sözlük alt sınıfıdır.\n",
    "#orderedDict ekleme sırasını hatırlayan bir sözlük alt sınıfıdır.\n",
    "#defaultdict varsayılan bir değer tipi belirleyerek olmayan anahtarlar için otomatik olarak varsayılan bir değer atayan sözlük alt sınıfıdır."
   ]
  },
  {
   "cell_type": "code",
   "execution_count": 125,
   "id": "033c05ec-a18b-42c7-a923-3788bfde7713",
   "metadata": {},
   "outputs": [],
   "source": [
    "#pip install requests ile requests modülü kurulur.Requests modülü JSON verileriyle çalışmayı kolaylaştırır.\n",
    "\n",
    "#import requests\n",
    "\n",
    "#response = requests.get('https://api.example.com/data')\n",
    "#data=response.json()   # JSON yanıtını python sözlüğüne dönüştürür\n",
    "#print(data['key'])"
   ]
  },
  {
   "cell_type": "code",
   "execution_count": null,
   "id": "f86223ae-0a8e-4ae1-ac3a-48a74b08e361",
   "metadata": {},
   "outputs": [],
   "source": [
    "#GUI , kullanıcıların bir yazılım veya cihazla görsel unsurlar kullanarak etkileşim kurmasını sağlayan arayüzdür.\n",
    "#Temel bileşenleri: windows,buttons,menus,text boxes,ıcons,toolbars,status bar, scroll bars\n"
   ]
  },
  {
   "cell_type": "code",
   "execution_count": null,
   "id": "df2654e6-3e4e-4cad-b2e1-8fef7e8b921c",
   "metadata": {},
   "outputs": [],
   "source": [
    "# Tkinter, Python ile GUI (grafiksel kullanıcı arayüzü) geliştirmek için kullanılan bir kütüphanedir.\n",
    "# Tkinter ile arayüz oluşturmak için pencere, buton, etiket, giriş alanı gibi bileşenler tanımlanır.\n",
    "\n",
    "# Adım 1: Tkinter kütüphanesini içe aktar\n",
    "import tkinter as tk\n",
    "\n",
    "# Adım 2: Ana pencere oluştur\n",
    "# Tk() yöntemi ile uygulamanın temel penceresi oluşturulur.\n",
    "root = tk.Tk()  \n",
    "root.title(\"Tkinter GUI Örneği\")  # Pencere başlığı ekle\n",
    "\n",
    "# Adım 3: Bileşenleri tanımla\n",
    "# Örnek bir etiket ve buton bileşeni tanımlanır.\n",
    "label = tk.Label(root, text=\"Merhaba, Tkinter!\")  # Etiket oluştur\n",
    "label.pack()  # Etiketi pencereye yerleştir\n",
    "\n",
    "def button_click():  # Buton için bir fonksiyon\n",
    "    label.config(text=\"Butona tıklandı!\")\n",
    "\n",
    "button = tk.Button(root, text=\"Tıkla\", command=button_click)  # Buton ekle\n",
    "button.pack()  # Butonu pencereye yerleştir\n",
    "\n",
    "# Adım 4: Mainloop çalıştır\n",
    "# Pencereyi sürekli açık tutmak için mainloop() fonksiyonu kullanılır.\n",
    "root.mainloop()\n"
   ]
  },
  {
   "cell_type": "code",
   "execution_count": null,
   "id": "cf8338e4-9a60-4e7a-9263-f48aa48b12c4",
   "metadata": {},
   "outputs": [],
   "source": [
    "# E-posta Gönderimi\n",
    "import smtplib\n",
    "from email.mime.text import MIMEText\n",
    "\n",
    "gonderici = \"gonderici@example.com\"  # Gönderici e-posta adresi\n",
    "sifre = \"gonderici_sifre\"            # Gönderici e-posta şifresi\n",
    "alici = \"fatmanurcandirli06@gmail.com\"  # Alıcı e-posta adresi\n",
    "\n",
    "# E-posta içeriği\n",
    "mesaj = MIMEText(\"Merhaba Fatma Nur, bu bir deneme e-postasıdır.\")\n",
    "mesaj[\"Subject\"] = \"Deneme E-postası\"\n",
    "mesaj[\"From\"] = gonderici\n",
    "mesaj[\"To\"] = alici\n",
    "\n",
    "# E-posta gönderme işlemi\n",
    "with smtplib.SMTP(\"smtp.gmail.com\", 587) as server:\n",
    "    server.starttls()\n",
    "    server.login(gonderici, sifre)\n",
    "    server.sendmail(gonderici, alici, mesaj.as_string())\n",
    "    print(\"E-posta başarıyla gönderildi.\")"
   ]
  },
  {
   "cell_type": "code",
   "execution_count": null,
   "id": "cac4456b-e033-4238-8e40-3450cf08208b",
   "metadata": {},
   "outputs": [],
   "source": [
    "#"
   ]
  },
  {
   "cell_type": "code",
   "execution_count": null,
   "id": "82814307-781d-457a-8265-464e69bad1ea",
   "metadata": {},
   "outputs": [],
   "source": [
    "#"
   ]
  },
  {
   "cell_type": "code",
   "execution_count": null,
   "id": "35375078-fe5f-4e92-8807-4f41d4c4d101",
   "metadata": {},
   "outputs": [],
   "source": [
    "#YENİ BAŞLAYANLAR İÇİN GİTHUB DERSİ VİDEOSU ÖNEMLİ NOKTALAR\n",
    "#Web tabanlı bir git platformudur.\n",
    "#Temel git komutları:\n",
    "#git init: yeni bir depo başlatır\n",
    "# git clone: var olan bir projeyi Githubdan indirir.\n",
    "# git add: Projeye yeni dosya veya değişiklik ekler.\n",
    "#git commit: Yapılan değişiklikleri kaydeder.\n",
    "#git push: Değişiklikleri GitHub’a gönderir.\n",
    "#git pull: GitHub üzerindeki değişiklikleri bilgisayarınıza indirir.\n",
    "\n",
    "#Depo (Repository) Yönetimi\n",
    "#Yeni Depo Oluşturma: GitHub’da “New Repository” seçeneğiyle yeni bir proje deposu oluşturabiliriz.\n",
    "#Dosya ekleme, güncelleme, silme işlemleri doğrudan GitHub web arayüzü veya Git komutlarıyla yapılabilir.\n",
    "\t\n",
    "\n",
    "#Dallar (Branches) ve Birleştirme (Merge)\n",
    "#Branch (Dal):Projede farklı özellikler üzerinde aynı anda çalışmanıza olanak tanır.\n",
    "#Merge (Birleştirme):Dallardaki değişiklikleri birleştirir.\n",
    "\n",
    "#İş Birliği ve Katkı Sağlama\n",
    "#Fork ve Pull Request:GitHub projelerine katkı sağlamak için projeyi kendi hesabınıza fork edersiniz.\n",
    "#Değişiklik yapıp geri gönderim (pull request) yaparak katkıda bulunabilirsiniz.\n",
    "#İş Birliği:Takım çalışması sırasında pull request incelemeleri yapılır ve projeye katkılar kontrol edilir.\n",
    "\n",
    "#GitHub Pages, projeleriniz için statik web sayfaları yayınlamanıza olanak tanır.\n",
    "\t"
   ]
  },
  {
   "cell_type": "code",
   "execution_count": null,
   "id": "9e4e75be-c294-4181-97f5-0387a6e4e2c3",
   "metadata": {},
   "outputs": [],
   "source": []
  }
 ],
 "metadata": {
  "kernelspec": {
   "display_name": "Python [conda env:base] *",
   "language": "python",
   "name": "conda-base-py"
  },
  "language_info": {
   "codemirror_mode": {
    "name": "ipython",
    "version": 3
   },
   "file_extension": ".py",
   "mimetype": "text/x-python",
   "name": "python",
   "nbconvert_exporter": "python",
   "pygments_lexer": "ipython3",
   "version": "3.12.7"
  }
 },
 "nbformat": 4,
 "nbformat_minor": 5
}
